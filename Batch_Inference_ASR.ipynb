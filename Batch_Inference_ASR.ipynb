{
  "nbformat": 4,
  "nbformat_minor": 0,
  "metadata": {
    "colab": {
      "name": "Batch_Inference_ASR.ipynb",
      "provenance": [],
      "collapsed_sections": [],
      "include_colab_link": true
    },
    "kernelspec": {
      "name": "python3",
      "display_name": "Python 3"
    },
    "language_info": {
      "name": "python"
    },
    "accelerator": "GPU"
  },
  "cells": [
    {
      "cell_type": "markdown",
      "metadata": {
        "id": "view-in-github",
        "colab_type": "text"
      },
      "source": [
        "<a href=\"https://colab.research.google.com/github/liuyi3013/colab/blob/main/Batch_Inference_ASR.ipynb\" target=\"_parent\"><img src=\"https://colab.research.google.com/assets/colab-badge.svg\" alt=\"Open In Colab\"/></a>"
      ]
    },
    {
      "cell_type": "markdown",
      "metadata": {
        "id": "OKI0SovKtbZm"
      },
      "source": [
        "In this notebook, we show how to transcribe in parallel a batch of input sentences using a pre-trained model. Please, use the GPU to speed up the code (Runtime => Manage Sessions => GPU)"
      ]
    },
    {
      "cell_type": "markdown",
      "metadata": {
        "id": "wagwSNk9ubu_"
      },
      "source": [
        "Let's install SpeechBrain and download some speech sentences first:"
      ]
    },
    {
      "cell_type": "code",
      "metadata": {
        "id": "lfcOBiS4Bbhd"
      },
      "source": [
        "%%capture\n",
        "!pip install speechbrain"
      ],
      "execution_count": null,
      "outputs": []
    },
    {
      "cell_type": "code",
      "metadata": {
        "colab": {
          "base_uri": "https://localhost:8080/"
        },
        "id": "4TY4r-8sEHup",
        "outputId": "02448d06-8e54-4ee9-d44d-19e7cc9310c2"
      },
      "source": [
        "# Download + Unpacking test-clean of librispeech\n",
        "import shutil\n",
        "from speechbrain.utils.data_utils import download_file\n",
        "\n",
        "MINILIBRI_TEST_URL = \"https://www.openslr.org/resources/12/test-clean.tar.gz\"\n",
        "download_file(MINILIBRI_TEST_URL, 'test-clean.tar.gz')\n",
        "shutil.unpack_archive( 'test-clean.tar.gz', '.')"
      ],
      "execution_count": null,
      "outputs": [
        {
          "output_type": "stream",
          "text": [
            "\rtest-clean.tar.gz: 0.00B [00:00, ?B/s]"
          ],
          "name": "stderr"
        },
        {
          "output_type": "stream",
          "text": [
            "Downloading https://www.openslr.org/resources/12/test-clean.tar.gz to test-clean.tar.gz\n"
          ],
          "name": "stdout"
        },
        {
          "output_type": "stream",
          "text": [
            "test-clean.tar.gz: 347MB [00:19, 18.0MB/s]                           \n"
          ],
          "name": "stderr"
        }
      ]
    },
    {
      "cell_type": "markdown",
      "metadata": {
        "id": "PPB0K9z3B43c"
      },
      "source": [
        "Let's decode a single sentence:"
      ]
    },
    {
      "cell_type": "code",
      "metadata": {
        "colab": {
          "base_uri": "https://localhost:8080/",
          "height": 35
        },
        "id": "NxgL01YwBvQ3",
        "outputId": "ad01a206-1640-42c6-f325-339889e648b8"
      },
      "source": [
        "from speechbrain.pretrained import EncoderDecoderASR\n",
        "audio_1 = \"/content/LibriSpeech/test-clean/1089/134686/1089-134686-0030.flac\"\n",
        "\n",
        "# Uncomment for using another pre-trained model\n",
        "#asr_model = EncoderDecoderASR.from_hparams(source=\"speechbrain/asr-crdnn-rnnlm-librispeech\", savedir=\"pretrained_models/asr-crdnn-rnnlm-librispeech\",  run_opts={\"device\":\"cuda\"})\n",
        "#asr_model = EncoderDecoderASR.from_hparams(source=\"speechbrain/asr-crdnn-transformerlm-librispeech\", savedir=\"pretrained_models/asr-crdnn-transformerlm-librispeech\",  run_opts={\"device\":\"cuda\"})\n",
        "asr_model = EncoderDecoderASR.from_hparams(source=\"speechbrain/asr-transformer-transformerlm-librispeech\", savedir=\"pretrained_models/asr-transformer-transformerlm-librispeech\",  run_opts={\"device\":\"cuda\"})\n",
        "asr_model.transcribe_file(audio_1)"
      ],
      "execution_count": null,
      "outputs": [
        {
          "output_type": "execute_result",
          "data": {
            "application/vnd.google.colaboratory.intrinsic+json": {
              "type": "string"
            },
            "text/plain": [
              "'BEWARE OF MAKING THAT MISTAKE'"
            ]
          },
          "metadata": {
            "tags": []
          },
          "execution_count": 4
        }
      ]
    },
    {
      "cell_type": "code",
      "metadata": {
        "colab": {
          "base_uri": "https://localhost:8080/"
        },
        "id": "BZ_rbmnBCy-w",
        "outputId": "befc881a-ec0c-4d23-e8ca-c29e86ad7829"
      },
      "source": [
        "import torch\n",
        "import torchaudio\n",
        "\n",
        "snt_1, fs = torchaudio.load(audio_1)\n",
        "wav_lens=torch.tensor([1.0])\n",
        "asr_model.transcribe_batch(snt_1, wav_lens)"
      ],
      "execution_count": null,
      "outputs": [
        {
          "output_type": "execute_result",
          "data": {
            "text/plain": [
              "(['BEWARE OF MAKING THAT MISTAKE'], [[28, 1934, 18, 7, 623, 15, 1966]])"
            ]
          },
          "metadata": {
            "tags": []
          },
          "execution_count": 6
        }
      ]
    },
    {
      "cell_type": "markdown",
      "metadata": {
        "id": "bnpl5dWVJEpk"
      },
      "source": [
        "Let's now decode another sentence in the batch:"
      ]
    },
    {
      "cell_type": "code",
      "metadata": {
        "colab": {
          "base_uri": "https://localhost:8080/"
        },
        "id": "RFmP2R3rJTMr",
        "outputId": "2332da3e-b137-4bd9-82ae-a278782edb85"
      },
      "source": [
        "audio_2 = \"/content/LibriSpeech/test-clean/1089/134686/1089-134686-0007.flac\"\n",
        "\n",
        "snt_2, fs = torchaudio.load(audio_2)\n",
        "wav_lens=torch.tensor([1.0])\n",
        "asr_model.transcribe_batch(snt_2, wav_lens)"
      ],
      "execution_count": null,
      "outputs": [
        {
          "output_type": "execute_result",
          "data": {
            "text/plain": [
              "(['A COLD LUCID INDIFFERENCE REIGNED IN HIS SOUL'],\n",
              " [[9, 646, 2706, 520, 4024, 2992, 6, 10, 20, 575]])"
            ]
          },
          "metadata": {
            "tags": []
          },
          "execution_count": 7
        }
      ]
    },
    {
      "cell_type": "markdown",
      "metadata": {
        "id": "dlqE9haAKDt8"
      },
      "source": [
        "Let's now decode both sentences within the same batch:"
      ]
    },
    {
      "cell_type": "code",
      "metadata": {
        "colab": {
          "base_uri": "https://localhost:8080/"
        },
        "id": "N9raNPm5KHvF",
        "outputId": "9d29bab7-8434-4ac2-9945-68f389a68ea1"
      },
      "source": [
        "# Padding\n",
        "from torch.nn.utils.rnn import pad_sequence\n",
        "batch = pad_sequence([snt_1.squeeze(), snt_2.squeeze()], batch_first=True, padding_value=0.0)\n",
        "wav_lens=torch.tensor([snt_1.shape[1]/batch.shape[1], snt_2.shape[1]/batch.shape[1]])\n",
        "asr_model.transcribe_batch(batch, wav_lens)\n"
      ],
      "execution_count": null,
      "outputs": [
        {
          "output_type": "execute_result",
          "data": {
            "text/plain": [
              "(['BEWARE OF MAKING THAT MISTAKE',\n",
              "  'A COLD LUCID INDIFFERENCE REIGNED IN HIS SOUL'],\n",
              " [[28, 1934, 18, 7, 623, 15, 1966],\n",
              "  [9, 646, 2706, 520, 4024, 2992, 6, 10, 20, 575]])"
            ]
          },
          "metadata": {
            "tags": []
          },
          "execution_count": 8
        }
      ]
    },
    {
      "cell_type": "markdown",
      "metadata": {
        "id": "nUcnu2FIpUpu"
      },
      "source": [
        "Let's now set up a batch of 8 sentences:"
      ]
    },
    {
      "cell_type": "code",
      "metadata": {
        "colab": {
          "base_uri": "https://localhost:8080/"
        },
        "id": "rCzZdGUapYFM",
        "outputId": "81a8a493-f0cc-4236-db7b-deecc441a024"
      },
      "source": [
        "audio_files=[]\n",
        "audio_files.append('/content/LibriSpeech/test-clean/1089/134686/1089-134686-0030.flac')\n",
        "audio_files.append('/content/LibriSpeech/test-clean/1089/134686/1089-134686-0014.flac')\n",
        "audio_files.append('/content/LibriSpeech/test-clean/1089/134686/1089-134686-0007.flac')\n",
        "audio_files.append('/content/LibriSpeech/test-clean/1089/134691/1089-134691-0000.flac')\n",
        "audio_files.append('/content/LibriSpeech/test-clean/1089/134691/1089-134691-0003.flac')\n",
        "audio_files.append('/content/LibriSpeech/test-clean/1188/133604/1188-133604-0030.flac')\n",
        "audio_files.append('/content/LibriSpeech/test-clean/1089/134691/1089-134691-0019.flac')\n",
        "audio_files.append('/content/LibriSpeech/test-clean/1188/133604/1188-133604-0006.flac')\n",
        "\n",
        "sigs=[]\n",
        "lens=[]\n",
        "for audio_file in audio_files:\n",
        "  snt, fs = torchaudio.load(audio_file)\n",
        "  sigs.append(snt.squeeze())\n",
        "  lens.append(snt.shape[1])\n",
        "\n",
        "batch = pad_sequence(sigs, batch_first=True, padding_value=0.0)\n",
        "\n",
        "lens = torch.Tensor(lens) / batch.shape[1]\n",
        "\n",
        "asr_model.transcribe_batch(batch, lens)\n"
      ],
      "execution_count": null,
      "outputs": [
        {
          "output_type": "execute_result",
          "data": {
            "text/plain": [
              "(['BEWARE OF MAKING THAT MISTAKE',\n",
              "  'HE TRIED TO THINK HOW IT COULD BE',\n",
              "  'A COLD LUCID INDIFFERENCE REIGNED IN HIS SOUL',\n",
              "  'HE COULD WAIT NO LONGER',\n",
              "  'THE UNIVERSITY',\n",
              "  'HE KNOWS THEM BOTH',\n",
              "  'A VOICE FROM BEYOND THE WORLD WAS CALLING',\n",
              "  'THEN HE COMES TO THE BEAK OF IT'],\n",
              " [[28, 1934, 18, 7, 623, 15, 1966],\n",
              "  [12, 501, 6, 8, 158, 93, 17, 76, 28],\n",
              "  [9, 646, 2706, 520, 4024, 2992, 6, 10, 20, 575],\n",
              "  [12, 76, 383, 54, 118, 47],\n",
              "  [3, 4342, 22],\n",
              "  [12, 1880, 65, 329],\n",
              "  [9, 336, 50, 28, 854, 3, 254, 16, 2395],\n",
              "  [74, 12, 1395, 8, 3, 28, 792, 7, 17]])"
            ]
          },
          "metadata": {
            "tags": []
          },
          "execution_count": 9
        }
      ]
    },
    {
      "cell_type": "markdown",
      "metadata": {
        "id": "T-9fWXlohn-L"
      },
      "source": [
        "**Note:** We highly recommend creating batches containing sentences of similar length. This way decoding performance is optimized."
      ]
    }
  ]
}