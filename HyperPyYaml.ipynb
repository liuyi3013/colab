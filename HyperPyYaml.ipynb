{
  "nbformat": 4,
  "nbformat_minor": 0,
  "metadata": {
    "colab": {
      "name": "HyperPyYaml.ipynb",
      "provenance": [],
      "collapsed_sections": [],
      "include_colab_link": true
    },
    "kernelspec": {
      "name": "python3",
      "display_name": "Python 3"
    }
  },
  "cells": [
    {
      "cell_type": "markdown",
      "metadata": {
        "id": "view-in-github",
        "colab_type": "text"
      },
      "source": [
        "<a href=\"https://colab.research.google.com/github/liuyi3013/colab/blob/main/HyperPyYaml.ipynb\" target=\"_parent\"><img src=\"https://colab.research.google.com/assets/colab-badge.svg\" alt=\"Open In Colab\"/></a>"
      ]
    },
    {
      "cell_type": "markdown",
      "metadata": {
        "id": "jr2jH1sDZcml"
      },
      "source": [
        "# HyperPyYAML Tutorial\n",
        "\n",
        "An essential part of any deep learning pipeline is the definition of hyperparameters and other metadata. These data in conjunction with the deep learning algorithms control the various aspects of the pipeline, such as model architecture, training, and decoding. At SpeechBrain, we decided that the distinction between hyperparameters and learning algorithms ought to be evident in the structure of our toolkit, so we split our recipes into two primary files: `train.py` and `train.yaml`.\n",
        "\n",
        "The `train.yaml` file is in a SpeechBrain-developed format, which we call \"HyperPyYAML\". We chose to extend YAML since it is a highly readable format for data serialization. By extending an already useful format, we were able to create an expanded definition of hyperparameter, keeping our actual experimental code small and highly readable.\n",
        "\n",
        "Here's a short example with PyTorch code to motivate the use of HyperPyYAML, though PyTorch is not a requirement in order to use HyperPyYAML:"
      ]
    },
    {
      "cell_type": "code",
      "metadata": {
        "id": "sahuT6WdbeAy"
      },
      "source": [
        "%%capture\n",
        "!pip install torch\n",
        "!pip install hyperpyyaml"
      ],
      "execution_count": null,
      "outputs": []
    },
    {
      "cell_type": "code",
      "metadata": {
        "colab": {
          "base_uri": "https://localhost:8080/"
        },
        "id": "OYuI_vzLbhJz",
        "outputId": "f8c390f4-f190-4063-a468-c11148d35527"
      },
      "source": [
        "import torch\n",
        "from hyperpyyaml import load_hyperpyyaml\n",
        "\n",
        "example_hyperparams = \"\"\"\n",
        "base_channels: 32\n",
        "kernel_size: 11\n",
        "padding: !ref <kernel_size> // 2\n",
        "\n",
        "layer1: !new:torch.nn.Conv1d\n",
        "  in_channels: 1\n",
        "  out_channels: !ref <base_channels>\n",
        "  kernel_size: !ref <kernel_size>\n",
        "  padding: !ref <padding>\n",
        "\n",
        "layer2: !new:torch.nn.Conv1d\n",
        "  in_channels: !ref <base_channels>\n",
        "  out_channels: !ref <base_channels> * 2\n",
        "  kernel_size: !ref <kernel_size>\n",
        "  padding: !ref <padding>\n",
        "\n",
        "layer3: !new:torch.nn.Conv1d\n",
        "  in_channels: !ref <base_channels> * 2\n",
        "  out_channels: 1\n",
        "  kernel_size: !ref <kernel_size>\n",
        "  padding: !ref <padding>\n",
        "\n",
        "model: !new:torch.nn.Sequential\n",
        "  - !ref <layer1>\n",
        "  - !new:torch.nn.LeakyReLU\n",
        "  - !ref <layer2>\n",
        "  - !new:torch.nn.LeakyReLU\n",
        "  - !ref <layer3>\n",
        "\"\"\"\n",
        "\n",
        "# Create model directly by loading the YAML\n",
        "loaded_hparams = load_hyperpyyaml(example_hyperparams)\n",
        "model = loaded_hparams[\"model\"]\n",
        "\n",
        "# Transform a 2-second audio clip\n",
        "input_audio = torch.rand(1, 1, 32000)\n",
        "transformed_audio = model(input_audio)\n",
        "print(transformed_audio.shape)\n",
        "\n",
        "# Try a different hyperparameter value by overriding the padding value\n",
        "loaded_hparams = load_hyperpyyaml(example_hyperparams, {\"padding\": 0})\n",
        "model = loaded_hparams[\"model\"]\n",
        "transformed_audio = model(input_audio)\n",
        "print(transformed_audio.shape)"
      ],
      "execution_count": null,
      "outputs": [
        {
          "output_type": "stream",
          "name": "stdout",
          "text": [
            "torch.Size([1, 1, 32000])\n",
            "torch.Size([1, 1, 31970])\n"
          ]
        }
      ]
    },
    {
      "cell_type": "markdown",
      "metadata": {
        "id": "jYsOid7mE673"
      },
      "source": [
        "As this example shows, HyperPyYAML allows for complex hyperparameter definitions with compositions. In addition, any value can be overridden for hyperparameter tuning. To grasp how all of this works, let's first briefly look at the basics of YAML."
      ]
    },
    {
      "cell_type": "markdown",
      "metadata": {
        "id": "DnfiIsycbqIs"
      },
      "source": [
        "## Basic YAML syntax\n",
        "\n",
        "Enough prelude: lets talk YAML! Here's a brief example of a yaml snippet and what it would look like once loaded to python:"
      ]
    },
    {
      "cell_type": "code",
      "metadata": {
        "colab": {
          "base_uri": "https://localhost:8080/"
        },
        "id": "8cARbf0cZYCT",
        "outputId": "c3a4016f-2e46-4199-840a-cf0b75d9dab2"
      },
      "source": [
        "import yaml\n",
        "yaml_string = \"\"\"\n",
        "foo: 1\n",
        "bar:\n",
        "  - item1\n",
        "  - item2\n",
        "baz:\n",
        "  item1: 3.4\n",
        "  item2: True\n",
        "\"\"\"\n",
        "yaml.safe_load(yaml_string)"
      ],
      "execution_count": null,
      "outputs": [
        {
          "output_type": "execute_result",
          "data": {
            "text/plain": [
              "{'bar': ['item1', 'item2'], 'baz': {'item1': 3.4, 'item2': True}, 'foo': 1}"
            ]
          },
          "metadata": {},
          "execution_count": 3
        }
      ]
    },
    {
      "cell_type": "markdown",
      "metadata": {
        "id": "pf7vC0x5d5vg"
      },
      "source": [
        "As you can see, YAML has built-in support for a variety of data types, including string, int, float, bool, list, and dictionary. Our HyperPyYAML format keeps all of this functionality."
      ]
    },
    {
      "cell_type": "code",
      "metadata": {
        "colab": {
          "base_uri": "https://localhost:8080/"
        },
        "id": "xMkgyuexc_3M",
        "outputId": "d7c00343-bc18-4cb9-c928-12e0b1bc7016"
      },
      "source": [
        "from hyperpyyaml import load_hyperpyyaml\n",
        "load_hyperpyyaml(yaml_string)"
      ],
      "execution_count": null,
      "outputs": [
        {
          "output_type": "execute_result",
          "data": {
            "text/plain": [
              "{'bar': ['item1', 'item2'], 'baz': {'item1': 3.4, 'item2': True}, 'foo': 1}"
            ]
          },
          "metadata": {},
          "execution_count": 4
        }
      ]
    },
    {
      "cell_type": "markdown",
      "metadata": {
        "id": "WmTHoVgjfNEv"
      },
      "source": [
        "Our primary additions to yaml format are added with YAML tags. Tags are added before an item definition, and are prefixed with `!`. For the purpose of illustrating how tags are used, here is an example with a minor addition that we've made, the `!tuple` tag:"
      ]
    },
    {
      "cell_type": "code",
      "metadata": {
        "colab": {
          "base_uri": "https://localhost:8080/"
        },
        "id": "XRNSh8PCej15",
        "outputId": "df9844e3-12da-4d5e-819a-480104a9c1b4"
      },
      "source": [
        "yaml_string = \"\"\"\n",
        "foo: !tuple (3, 4)\n",
        "\"\"\"\n",
        "load_hyperpyyaml(yaml_string)"
      ],
      "execution_count": null,
      "outputs": [
        {
          "output_type": "execute_result",
          "data": {
            "text/plain": [
              "{'foo': (3, 4)}"
            ]
          },
          "metadata": {},
          "execution_count": 5
        }
      ]
    },
    {
      "cell_type": "markdown",
      "metadata": {
        "id": "7Qwa5t-OkL4b"
      },
      "source": [
        "Now you know the YAML basics, time to move on to our additions!"
      ]
    },
    {
      "cell_type": "markdown",
      "metadata": {
        "id": "KmLsqpZUgi87"
      },
      "source": [
        "## Tags `!new:` and `!name:`\n",
        "YAML tags can contain a suffix to more specifically define what type of tag it is. We use this to define a tag that is able to create any python object, not just a basic type. This tag starts with `!new:` and contains the type of the object. For example:"
      ]
    },
    {
      "cell_type": "code",
      "metadata": {
        "colab": {
          "base_uri": "https://localhost:8080/"
        },
        "id": "lSlv5ootgW-g",
        "outputId": "a85bcab7-0f23-4c1a-e5ff-1dba3bdae910"
      },
      "source": [
        "yaml_string = \"\"\"\n",
        "foo: !new:collections.Counter\n",
        "\"\"\"\n",
        "loaded_yaml = load_hyperpyyaml(yaml_string)\n",
        "loaded_yaml[\"foo\"]"
      ],
      "execution_count": null,
      "outputs": [
        {
          "output_type": "execute_result",
          "data": {
            "text/plain": [
              "Counter()"
            ]
          },
          "metadata": {},
          "execution_count": 6
        }
      ]
    },
    {
      "cell_type": "code",
      "metadata": {
        "colab": {
          "base_uri": "https://localhost:8080/"
        },
        "id": "uVxoxhIDhoBD",
        "outputId": "ed094746-ee68-4855-a723-3d8680ccefeb"
      },
      "source": [
        "loaded_yaml[\"foo\"].update({\"a\": 3, \"b\": 5})\n",
        "loaded_yaml[\"foo\"][\"a\"] += 1\n",
        "loaded_yaml[\"foo\"]"
      ],
      "execution_count": null,
      "outputs": [
        {
          "output_type": "execute_result",
          "data": {
            "text/plain": [
              "Counter({'a': 4, 'b': 5})"
            ]
          },
          "metadata": {},
          "execution_count": 7
        }
      ]
    },
    {
      "cell_type": "markdown",
      "metadata": {
        "id": "NtJ7bt2FmLpQ"
      },
      "source": [
        "Of course many python objects take arguments during creation. These arguments can be passed with a list for positional arguments or a dictionary for keyword arguments."
      ]
    },
    {
      "cell_type": "code",
      "metadata": {
        "colab": {
          "base_uri": "https://localhost:8080/"
        },
        "id": "jBi0dTUzl_Eq",
        "outputId": "b98cbae6-d896-45de-f662-2c84e7dbb3a8"
      },
      "source": [
        "yaml_string = \"\"\"\n",
        "foo: !new:collections.Counter\n",
        "  - [a, b, r, a, c, a, d, a, b, r, a]\n",
        "bar: !new:collections.Counter\n",
        "  a: 2\n",
        "  b: 1\n",
        "  c: 5\n",
        "\"\"\"\n",
        "load_hyperpyyaml(yaml_string)"
      ],
      "execution_count": null,
      "outputs": [
        {
          "output_type": "execute_result",
          "data": {
            "text/plain": [
              "{'bar': Counter({'a': 2, 'b': 1, 'c': 5}),\n",
              " 'foo': Counter({'a': 5, 'b': 2, 'c': 1, 'd': 1, 'r': 2})}"
            ]
          },
          "metadata": {},
          "execution_count": 8
        }
      ]
    },
    {
      "cell_type": "markdown",
      "metadata": {
        "id": "2xlFj5Te7A9f"
      },
      "source": [
        "Another python object that is useful to create is a function object. In HyperPyYAML this can be done with the `!name:` tag. Behind the scenes, this tag uses `functools.partial` to create a new function definition with the default arguments provided. For example:"
      ]
    },
    {
      "cell_type": "code",
      "metadata": {
        "colab": {
          "base_uri": "https://localhost:8080/"
        },
        "id": "60wI82NRm8M8",
        "outputId": "181d271c-674d-4840-8276-c37ecc9861ac"
      },
      "source": [
        "yaml_string = \"\"\"\n",
        "foo: !name:collections.Counter\n",
        "  a: 2\n",
        "\"\"\"\n",
        "loaded_yaml = load_hyperpyyaml(yaml_string)\n",
        "loaded_yaml[\"foo\"](b=4)"
      ],
      "execution_count": null,
      "outputs": [
        {
          "output_type": "execute_result",
          "data": {
            "text/plain": [
              "Counter({'a': 2, 'b': 4})"
            ]
          },
          "metadata": {},
          "execution_count": 9
        }
      ]
    },
    {
      "cell_type": "markdown",
      "metadata": {
        "id": "qfBKfFDB8ds8"
      },
      "source": [
        "The default arguments can be overridden, just as a normal python function"
      ]
    },
    {
      "cell_type": "code",
      "metadata": {
        "colab": {
          "base_uri": "https://localhost:8080/"
        },
        "id": "P2SKGzIE8MQ5",
        "outputId": "5c7dad4f-18cd-42c9-f5d3-1152a96c39cf"
      },
      "source": [
        "loaded_yaml[\"foo\"](a=3, b=5)"
      ],
      "execution_count": null,
      "outputs": [
        {
          "output_type": "execute_result",
          "data": {
            "text/plain": [
              "Counter({'a': 3, 'b': 5})"
            ]
          },
          "metadata": {},
          "execution_count": 10
        }
      ]
    },
    {
      "cell_type": "markdown",
      "metadata": {
        "id": "o8Dh9KB18rn7"
      },
      "source": [
        "## Tags `!ref` and `!copy`\n",
        "\n",
        "Of course some hyperparameters get used in multiple places, so we added a mechanism for referring to another item called `!ref`. The node that this tag is applied to must be a string that contains the location of the node to copy. Sub-nodes can be accessed with square brackets, same as in Python. For example:"
      ]
    },
    {
      "cell_type": "code",
      "metadata": {
        "colab": {
          "base_uri": "https://localhost:8080/"
        },
        "id": "BkpqtyKR8mqa",
        "outputId": "dcebcaca-f9ba-49f1-fba0-1d46616be32c"
      },
      "source": [
        "yaml_string = \"\"\"\n",
        "foo:\n",
        "  a: 3\n",
        "  b: 4\n",
        "bar:\n",
        "  c: !ref <foo>\n",
        "  d: !ref <foo[b]>\n",
        "\"\"\"\n",
        "load_hyperpyyaml(yaml_string)"
      ],
      "execution_count": null,
      "outputs": [
        {
          "output_type": "execute_result",
          "data": {
            "text/plain": [
              "{'bar': {'c': {'a': 3, 'b': 4}, 'd': 4}, 'foo': {'a': 3, 'b': 4}}"
            ]
          },
          "metadata": {},
          "execution_count": 11
        }
      ]
    },
    {
      "cell_type": "markdown",
      "metadata": {
        "id": "3sgZ3MNa-uGH"
      },
      "source": [
        "The `!ref` tag can support simple arithmetic and string concatenation for basic hyperparameter combinations."
      ]
    },
    {
      "cell_type": "code",
      "metadata": {
        "colab": {
          "base_uri": "https://localhost:8080/"
        },
        "id": "BT0xjRzp-qym",
        "outputId": "a63c5d9a-0d58-44cd-fe5e-f0c1a4540066"
      },
      "source": [
        "yaml_string = \"\"\"\n",
        "folder1: abc/def\n",
        "folder2: ghi/jkl\n",
        "folder3: !ref <folder1>/<folder2>\n",
        "\n",
        "foo: 1024\n",
        "bar: 512\n",
        "baz: !ref <foo> // <bar> + 1\n",
        "\"\"\"\n",
        "load_hyperpyyaml(yaml_string)"
      ],
      "execution_count": null,
      "outputs": [
        {
          "output_type": "execute_result",
          "data": {
            "text/plain": [
              "{'bar': 512,\n",
              " 'baz': 3,\n",
              " 'folder1': 'abc/def',\n",
              " 'folder2': 'ghi/jkl',\n",
              " 'folder3': 'abc/def/ghi/jkl',\n",
              " 'foo': 1024}"
            ]
          },
          "metadata": {},
          "execution_count": 12
        }
      ]
    },
    {
      "cell_type": "markdown",
      "metadata": {
        "id": "vp3a9jsnGWBV"
      },
      "source": [
        "The `!ref` tag can also refer to objects, in which case it makes a reference to the same object, rather than a copy. If you'd prefer to make a copy instead, use the `!copy` tag."
      ]
    },
    {
      "cell_type": "code",
      "metadata": {
        "colab": {
          "base_uri": "https://localhost:8080/"
        },
        "id": "Wy0NDnrO_Vb0",
        "outputId": "8551d2bb-bc9d-476f-e8b8-6cd55540e667"
      },
      "source": [
        "yaml_string = \"\"\"\n",
        "foo: !new:collections.Counter\n",
        "  a: 4\n",
        "bar: !ref <foo>\n",
        "baz: !copy <foo>\n",
        "\"\"\"\n",
        "loaded_yaml = load_hyperpyyaml(yaml_string)\n",
        "loaded_yaml[\"foo\"].update({\"b\": 10})\n",
        "print(loaded_yaml[\"bar\"])\n",
        "print(loaded_yaml[\"baz\"])"
      ],
      "execution_count": null,
      "outputs": [
        {
          "output_type": "stream",
          "name": "stdout",
          "text": [
            "Counter({'b': 10, 'a': 4})\n",
            "Counter({'a': 4})\n"
          ]
        }
      ]
    },
    {
      "cell_type": "markdown",
      "metadata": {
        "id": "d8NBOA9WHQIG"
      },
      "source": [
        "## Other tags\n",
        "\n",
        "We introduced a variety of other tags as well:\n",
        "* `!tuple` to create python tuples. Note this is implicitly resolved, so you do not need to explicitly write out the tuple tag, just use parantheses as you would in Python.\n",
        "* `!include` to insert other yaml files directly\n",
        "* `!apply` to load and execute a python function, storing the result\n",
        "\n",
        "We use `!apply` to set the random seed at the beginning of loading the yaml, so that the models have the same parameters each run. The result is not stored, because it starts with `__`."
      ]
    },
    {
      "cell_type": "code",
      "metadata": {
        "colab": {
          "base_uri": "https://localhost:8080/"
        },
        "id": "Q9ftz9wMGp9L",
        "outputId": "4500ab57-be52-483d-b379-c61457c29061"
      },
      "source": [
        "yaml_string = \"\"\"\n",
        "sum: !apply:sum\n",
        "  - [1, 2]\n",
        "__set_seed: !apply:torch.manual_seed [1234]\n",
        "\"\"\"\n",
        "load_hyperpyyaml(yaml_string)"
      ],
      "execution_count": null,
      "outputs": [
        {
          "output_type": "execute_result",
          "data": {
            "text/plain": [
              "{'sum': 3}"
            ]
          },
          "metadata": {},
          "execution_count": 14
        }
      ]
    },
    {
      "cell_type": "markdown",
      "metadata": {
        "id": "0jzO7UWLJ_iP"
      },
      "source": [
        "## Overrides\n",
        "\n",
        "In order to run experiments with various values for a hyperparameter, we have a system for overriding the values that are listed in the yaml file."
      ]
    },
    {
      "cell_type": "code",
      "metadata": {
        "colab": {
          "base_uri": "https://localhost:8080/"
        },
        "id": "TuZ9s7mBJI0B",
        "outputId": "d05df7bf-9f04-45d4-d959-f2394fa67bd0"
      },
      "source": [
        "overrides = {\"foo\": 7}\n",
        "fake_file = \"\"\"\n",
        "foo: 2\n",
        "bar: 5\n",
        "\"\"\"\n",
        "load_hyperpyyaml(fake_file, overrides)"
      ],
      "execution_count": null,
      "outputs": [
        {
          "output_type": "execute_result",
          "data": {
            "text/plain": [
              "{'bar': 5, 'foo': 7}"
            ]
          },
          "metadata": {},
          "execution_count": 15
        }
      ]
    },
    {
      "cell_type": "markdown",
      "metadata": {
        "id": "TRseBBcVL4Hv"
      },
      "source": [
        "As shown in this example, overrides can take an ordinary python dictionary. However, this form does not support python objects. To override a python object, overrides can also take a yaml-formatted string with the HyperPyYAML syntax."
      ]
    },
    {
      "cell_type": "code",
      "metadata": {
        "colab": {
          "base_uri": "https://localhost:8080/"
        },
        "id": "R05TG8UzLQNj",
        "outputId": "73227dac-7d35-435f-8451-1401ef175782"
      },
      "source": [
        "load_hyperpyyaml(fake_file, \"foo: !new:collections.Counter\")"
      ],
      "execution_count": null,
      "outputs": [
        {
          "output_type": "execute_result",
          "data": {
            "text/plain": [
              "{'bar': 5, 'foo': Counter()}"
            ]
          },
          "metadata": {},
          "execution_count": 16
        }
      ]
    },
    {
      "cell_type": "markdown",
      "metadata": {
        "id": "nsWb8t-NMxOo"
      },
      "source": [
        "## Conclusion\n",
        "\n",
        "We are proud to present our HyperPyYAML syntax, and we think that it provides a readable and concise way to structure hyperparameter definitions. In addition, it removes unnecessary complexity from experiment files, allowing the algorithms to become clear. As is evident in the first example, overrides are easy, making hyperparameter tuning a cinch. Overall, we have found this package to be a valuable tool for deep learning!"
      ]
    },
    {
      "cell_type": "markdown",
      "metadata": {
        "id": "JB4Vzry4B-TL"
      },
      "source": [
        "# **About SpeechBrain**\n",
        "- Website: https://speechbrain.github.io/\n",
        "- Code: https://github.com/speechbrain/speechbrain/\n",
        "- HuggingFace: https://huggingface.co/speechbrain/\n",
        "\n",
        "\n",
        "# **Citing SpeechBrain**\n",
        "Please, cite SpeechBrain if you use it for your research or business.\n",
        "\n",
        "```bibtex\n",
        "@misc{speechbrain,\n",
        "  title={{SpeechBrain}: A General-Purpose Speech Toolkit},\n",
        "  author={Mirco Ravanelli and Titouan Parcollet and Peter Plantinga and Aku Rouhe and Samuele Cornell and Loren Lugosch and Cem Subakan and Nauman Dawalatabad and Abdelwahab Heba and Jianyuan Zhong and Ju-Chieh Chou and Sung-Lin Yeh and Szu-Wei Fu and Chien-Feng Liao and Elena Rastorgueva and François Grondin and William Aris and Hwidong Na and Yan Gao and Renato De Mori and Yoshua Bengio},\n",
        "  year={2021},\n",
        "  eprint={2106.04624},\n",
        "  archivePrefix={arXiv},\n",
        "  primaryClass={eess.AS},\n",
        "  note={arXiv:2106.04624}\n",
        "}\n",
        "```"
      ]
    }
  ]
}